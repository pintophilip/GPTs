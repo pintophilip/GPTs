{
  "nbformat": 4,
  "nbformat_minor": 0,
  "metadata": {
    "colab": {
      "provenance": [],
      "gpuType": "T4",
      "include_colab_link": true
    },
    "kernelspec": {
      "name": "python3",
      "display_name": "Python 3"
    },
    "language_info": {
      "name": "python"
    },
    "accelerator": "GPU"
  },
  "cells": [
    {
      "cell_type": "markdown",
      "metadata": {
        "id": "view-in-github",
        "colab_type": "text"
      },
      "source": [
        "<a href=\"https://colab.research.google.com/github/pintophilip/GPTs/blob/main/News_Recommendations_using_OpenAI_Text_Embeddings.ipynb\" target=\"_parent\"><img src=\"https://colab.research.google.com/assets/colab-badge.svg\" alt=\"Open In Colab\"/></a>"
      ]
    },
    {
      "cell_type": "markdown",
      "source": [
        "# Introduction\n",
        "OpenAI provides text embeddings that can be used to perform text analytics and natural language processing tasks. We will use these embeddings to recommend news articles that are similar to a given news article.\n",
        "\n",
        "We will accomplish this task in a few steps:\n",
        "1. Setup\n",
        "2. Establishing a cache\n",
        "3. Recommending articles\n",
        "4. Testing recommendations"
      ],
      "metadata": {
        "id": "blRmuBOTRFfY"
      }
    },
    {
      "cell_type": "markdown",
      "source": [
        "## 1. Setup\n",
        "\n",
        "In this section, we will:\n",
        "* Install required libraries\n",
        "* Import libraries and functions\n",
        "* Load the cleaned data set from Code Interpreter\n",
        "* Explore the data set"
      ],
      "metadata": {
        "id": "w8PTg0AkYVjo"
      }
    },
    {
      "cell_type": "markdown",
      "source": [
        "Let's begin by installing the OpenAI library"
      ],
      "metadata": {
        "id": "EKjldlSCom0e"
      }
    },
    {
      "cell_type": "code",
      "execution_count": null,
      "metadata": {
        "colab": {
          "base_uri": "https://localhost:8080/"
        },
        "id": "QcQopyMPMcP6",
        "outputId": "0477f77e-ae5c-4d22-a794-ab87b2e72470"
      },
      "outputs": [
        {
          "output_type": "stream",
          "name": "stdout",
          "text": [
            "Requirement already satisfied: openai==0.28.1 in /usr/local/lib/python3.10/dist-packages (0.28.1)\n",
            "Requirement already satisfied: requests>=2.20 in /usr/local/lib/python3.10/dist-packages (from openai==0.28.1) (2.31.0)\n",
            "Requirement already satisfied: tqdm in /usr/local/lib/python3.10/dist-packages (from openai==0.28.1) (4.66.2)\n",
            "Requirement already satisfied: aiohttp in /usr/local/lib/python3.10/dist-packages (from openai==0.28.1) (3.9.3)\n",
            "Requirement already satisfied: charset-normalizer<4,>=2 in /usr/local/lib/python3.10/dist-packages (from requests>=2.20->openai==0.28.1) (3.3.2)\n",
            "Requirement already satisfied: idna<4,>=2.5 in /usr/local/lib/python3.10/dist-packages (from requests>=2.20->openai==0.28.1) (3.6)\n",
            "Requirement already satisfied: urllib3<3,>=1.21.1 in /usr/local/lib/python3.10/dist-packages (from requests>=2.20->openai==0.28.1) (2.0.7)\n",
            "Requirement already satisfied: certifi>=2017.4.17 in /usr/local/lib/python3.10/dist-packages (from requests>=2.20->openai==0.28.1) (2024.2.2)\n",
            "Requirement already satisfied: aiosignal>=1.1.2 in /usr/local/lib/python3.10/dist-packages (from aiohttp->openai==0.28.1) (1.3.1)\n",
            "Requirement already satisfied: attrs>=17.3.0 in /usr/local/lib/python3.10/dist-packages (from aiohttp->openai==0.28.1) (23.2.0)\n",
            "Requirement already satisfied: frozenlist>=1.1.1 in /usr/local/lib/python3.10/dist-packages (from aiohttp->openai==0.28.1) (1.4.1)\n",
            "Requirement already satisfied: multidict<7.0,>=4.5 in /usr/local/lib/python3.10/dist-packages (from aiohttp->openai==0.28.1) (6.0.5)\n",
            "Requirement already satisfied: yarl<2.0,>=1.0 in /usr/local/lib/python3.10/dist-packages (from aiohttp->openai==0.28.1) (1.9.4)\n",
            "Requirement already satisfied: async-timeout<5.0,>=4.0 in /usr/local/lib/python3.10/dist-packages (from aiohttp->openai==0.28.1) (4.0.3)\n"
          ]
        }
      ],
      "source": [
        "# Install openai\n",
        "!pip install openai==0.28.1"
      ]
    },
    {
      "cell_type": "markdown",
      "source": [
        "Let's now import the required libraries and functions."
      ],
      "metadata": {
        "id": "Aqks94eAZD4g"
      }
    },
    {
      "cell_type": "code",
      "source": [
        "# Import pickle to serialize the embedding data set for caching\n",
        "import pickle\n",
        "\n",
        "# Import the openai library\n",
        "import openai\n",
        "\n",
        "# Import pandas to access dataframes\n",
        "import pandas as pd\n",
        "\n",
        "# Import required functions from the openai.embeddings_utils module\n",
        "from openai.embeddings_utils import get_embedding, distances_from_embeddings, indices_of_nearest_neighbors_from_distances"
      ],
      "metadata": {
        "id": "5KDNcqJWvSQ5"
      },
      "execution_count": null,
      "outputs": []
    },
    {
      "cell_type": "markdown",
      "source": [
        "*pickle* is a library that is sometimes used to cache objects. Caching in our context refers to the process in which we save some data on our machines to avoid making repeated calls to the OpenAI API. Pickle is used to convert Python objects into a stream of 1s and 0s and convert these 1s and 0s back to Python objects. This process is called serialization. Once we have serialized a Python object, we can safely store it locally.\n",
        "\n"
      ],
      "metadata": {
        "id": "Qqxq3W9tZaff"
      }
    },
    {
      "cell_type": "markdown",
      "source": [
        "Now let's define the model that we are using and load our API key."
      ],
      "metadata": {
        "id": "Asqlfxdwo66R"
      }
    },
    {
      "cell_type": "code",
      "source": [
        "# Save the name of the preferred embedding model in a variable\n",
        "EMBEDDING_MODEL = 'text-embedding-ada-002'"
      ],
      "metadata": {
        "id": "77uGuhi8v1cn"
      },
      "execution_count": null,
      "outputs": []
    },
    {
      "cell_type": "code",
      "source": [
        "# Load the API key\n",
        "with open('api_key.txt') as f:\n",
        "    openai.api_key = f.read()"
      ],
      "metadata": {
        "id": "Co0FnwxGvL35"
      },
      "execution_count": null,
      "outputs": []
    },
    {
      "cell_type": "code",
      "source": [
        "openai.api_version = '2023-05-15'\n",
        "openai.api_base = 'https://upgrad-teach-team-resource.openai.azure.com/' # Please add your endpoint here\n",
        "openai.api_type = 'azure'\n",
        "with open('azure_api_key.txt') as f:\n",
        "    key = f.read()\n",
        "openai.api_key = key\n",
        "_chat = 'data_content'\n",
        "_completion = 'YKN_tech_team_deployment'"
      ],
      "metadata": {
        "id": "HJrAmVK0A8zY"
      },
      "execution_count": null,
      "outputs": []
    },
    {
      "cell_type": "code",
      "source": [
        "# Load the dataset\n",
        "df = pd.read_csv('/content/news_category_dataset_cleaned.csv')\n",
        "\n",
        "# Display the first few records of the dataframe\n",
        "df.head()"
      ],
      "metadata": {
        "colab": {
          "base_uri": "https://localhost:8080/",
          "height": 449
        },
        "id": "fWN4bUIzvYOd",
        "outputId": "296fedbf-4e2f-40f4-e9e1-2c60b6c51fcf"
      },
      "execution_count": null,
      "outputs": [
        {
          "output_type": "execute_result",
          "data": {
            "text/plain": [
              "                                                link  \\\n",
              "0  https://www.huffpost.com/entry/minimum-wage-in...   \n",
              "1  https://www.huffpost.com/entry/california-wome...   \n",
              "2  https://www.huffpost.com/entry/markets-right-n...   \n",
              "3  https://www.huffpost.com/entry/louisiana-polic...   \n",
              "4  https://www.huffpost.com/entry/serena-williams...   \n",
              "\n",
              "                                            headline    category  \\\n",
              "0  Millions To See Pay Hikes In 2019 As Minimum W...   U.S. NEWS   \n",
              "1  'Overwhelmingly White' California Women's Marc...   U.S. NEWS   \n",
              "2  U.S. Stocks Suffer Worst Year Since 2008 Finan...    BUSINESS   \n",
              "3  Louisiana Police Sucker Media With Offer To 'T...  WEIRD NEWS   \n",
              "4  Roger Federer Will Face Off With Serena Willia...      SPORTS   \n",
              "\n",
              "                                   short_description         authors  \\\n",
              "0  Thirteen counties and cities will notice the d...       Amy Russo   \n",
              "1  Organizers said they would work harder to attr...       Amy Russo   \n",
              "2  Despite a dismal year, the market closed out 2...  ALEX VEIGA, AP   \n",
              "3  The Harahan Police Department's faux Facebook ...      David Lohr   \n",
              "4  The tennis legends will play a mixed doubles m...  Curtis M. Wong   \n",
              "\n",
              "         date    views  year  \n",
              "0  2018-12-31  18800.0  2018  \n",
              "1  2018-12-31  17292.0  2018  \n",
              "2  2018-12-31  29312.0  2018  \n",
              "3  2018-12-31  16858.0  2018  \n",
              "4  2018-12-31  44243.0  2018  "
            ],
            "text/html": [
              "\n",
              "  <div id=\"df-da945738-006a-4f5c-b512-81c1410b7477\" class=\"colab-df-container\">\n",
              "    <div>\n",
              "<style scoped>\n",
              "    .dataframe tbody tr th:only-of-type {\n",
              "        vertical-align: middle;\n",
              "    }\n",
              "\n",
              "    .dataframe tbody tr th {\n",
              "        vertical-align: top;\n",
              "    }\n",
              "\n",
              "    .dataframe thead th {\n",
              "        text-align: right;\n",
              "    }\n",
              "</style>\n",
              "<table border=\"1\" class=\"dataframe\">\n",
              "  <thead>\n",
              "    <tr style=\"text-align: right;\">\n",
              "      <th></th>\n",
              "      <th>link</th>\n",
              "      <th>headline</th>\n",
              "      <th>category</th>\n",
              "      <th>short_description</th>\n",
              "      <th>authors</th>\n",
              "      <th>date</th>\n",
              "      <th>views</th>\n",
              "      <th>year</th>\n",
              "    </tr>\n",
              "  </thead>\n",
              "  <tbody>\n",
              "    <tr>\n",
              "      <th>0</th>\n",
              "      <td>https://www.huffpost.com/entry/minimum-wage-in...</td>\n",
              "      <td>Millions To See Pay Hikes In 2019 As Minimum W...</td>\n",
              "      <td>U.S. NEWS</td>\n",
              "      <td>Thirteen counties and cities will notice the d...</td>\n",
              "      <td>Amy Russo</td>\n",
              "      <td>2018-12-31</td>\n",
              "      <td>18800.0</td>\n",
              "      <td>2018</td>\n",
              "    </tr>\n",
              "    <tr>\n",
              "      <th>1</th>\n",
              "      <td>https://www.huffpost.com/entry/california-wome...</td>\n",
              "      <td>'Overwhelmingly White' California Women's Marc...</td>\n",
              "      <td>U.S. NEWS</td>\n",
              "      <td>Organizers said they would work harder to attr...</td>\n",
              "      <td>Amy Russo</td>\n",
              "      <td>2018-12-31</td>\n",
              "      <td>17292.0</td>\n",
              "      <td>2018</td>\n",
              "    </tr>\n",
              "    <tr>\n",
              "      <th>2</th>\n",
              "      <td>https://www.huffpost.com/entry/markets-right-n...</td>\n",
              "      <td>U.S. Stocks Suffer Worst Year Since 2008 Finan...</td>\n",
              "      <td>BUSINESS</td>\n",
              "      <td>Despite a dismal year, the market closed out 2...</td>\n",
              "      <td>ALEX VEIGA, AP</td>\n",
              "      <td>2018-12-31</td>\n",
              "      <td>29312.0</td>\n",
              "      <td>2018</td>\n",
              "    </tr>\n",
              "    <tr>\n",
              "      <th>3</th>\n",
              "      <td>https://www.huffpost.com/entry/louisiana-polic...</td>\n",
              "      <td>Louisiana Police Sucker Media With Offer To 'T...</td>\n",
              "      <td>WEIRD NEWS</td>\n",
              "      <td>The Harahan Police Department's faux Facebook ...</td>\n",
              "      <td>David Lohr</td>\n",
              "      <td>2018-12-31</td>\n",
              "      <td>16858.0</td>\n",
              "      <td>2018</td>\n",
              "    </tr>\n",
              "    <tr>\n",
              "      <th>4</th>\n",
              "      <td>https://www.huffpost.com/entry/serena-williams...</td>\n",
              "      <td>Roger Federer Will Face Off With Serena Willia...</td>\n",
              "      <td>SPORTS</td>\n",
              "      <td>The tennis legends will play a mixed doubles m...</td>\n",
              "      <td>Curtis M. Wong</td>\n",
              "      <td>2018-12-31</td>\n",
              "      <td>44243.0</td>\n",
              "      <td>2018</td>\n",
              "    </tr>\n",
              "  </tbody>\n",
              "</table>\n",
              "</div>\n",
              "    <div class=\"colab-df-buttons\">\n",
              "\n",
              "  <div class=\"colab-df-container\">\n",
              "    <button class=\"colab-df-convert\" onclick=\"convertToInteractive('df-da945738-006a-4f5c-b512-81c1410b7477')\"\n",
              "            title=\"Convert this dataframe to an interactive table.\"\n",
              "            style=\"display:none;\">\n",
              "\n",
              "  <svg xmlns=\"http://www.w3.org/2000/svg\" height=\"24px\" viewBox=\"0 -960 960 960\">\n",
              "    <path d=\"M120-120v-720h720v720H120Zm60-500h600v-160H180v160Zm220 220h160v-160H400v160Zm0 220h160v-160H400v160ZM180-400h160v-160H180v160Zm440 0h160v-160H620v160ZM180-180h160v-160H180v160Zm440 0h160v-160H620v160Z\"/>\n",
              "  </svg>\n",
              "    </button>\n",
              "\n",
              "  <style>\n",
              "    .colab-df-container {\n",
              "      display:flex;\n",
              "      gap: 12px;\n",
              "    }\n",
              "\n",
              "    .colab-df-convert {\n",
              "      background-color: #E8F0FE;\n",
              "      border: none;\n",
              "      border-radius: 50%;\n",
              "      cursor: pointer;\n",
              "      display: none;\n",
              "      fill: #1967D2;\n",
              "      height: 32px;\n",
              "      padding: 0 0 0 0;\n",
              "      width: 32px;\n",
              "    }\n",
              "\n",
              "    .colab-df-convert:hover {\n",
              "      background-color: #E2EBFA;\n",
              "      box-shadow: 0px 1px 2px rgba(60, 64, 67, 0.3), 0px 1px 3px 1px rgba(60, 64, 67, 0.15);\n",
              "      fill: #174EA6;\n",
              "    }\n",
              "\n",
              "    .colab-df-buttons div {\n",
              "      margin-bottom: 4px;\n",
              "    }\n",
              "\n",
              "    [theme=dark] .colab-df-convert {\n",
              "      background-color: #3B4455;\n",
              "      fill: #D2E3FC;\n",
              "    }\n",
              "\n",
              "    [theme=dark] .colab-df-convert:hover {\n",
              "      background-color: #434B5C;\n",
              "      box-shadow: 0px 1px 3px 1px rgba(0, 0, 0, 0.15);\n",
              "      filter: drop-shadow(0px 1px 2px rgba(0, 0, 0, 0.3));\n",
              "      fill: #FFFFFF;\n",
              "    }\n",
              "  </style>\n",
              "\n",
              "    <script>\n",
              "      const buttonEl =\n",
              "        document.querySelector('#df-da945738-006a-4f5c-b512-81c1410b7477 button.colab-df-convert');\n",
              "      buttonEl.style.display =\n",
              "        google.colab.kernel.accessAllowed ? 'block' : 'none';\n",
              "\n",
              "      async function convertToInteractive(key) {\n",
              "        const element = document.querySelector('#df-da945738-006a-4f5c-b512-81c1410b7477');\n",
              "        const dataTable =\n",
              "          await google.colab.kernel.invokeFunction('convertToInteractive',\n",
              "                                                    [key], {});\n",
              "        if (!dataTable) return;\n",
              "\n",
              "        const docLinkHtml = 'Like what you see? Visit the ' +\n",
              "          '<a target=\"_blank\" href=https://colab.research.google.com/notebooks/data_table.ipynb>data table notebook</a>'\n",
              "          + ' to learn more about interactive tables.';\n",
              "        element.innerHTML = '';\n",
              "        dataTable['output_type'] = 'display_data';\n",
              "        await google.colab.output.renderOutput(dataTable, element);\n",
              "        const docLink = document.createElement('div');\n",
              "        docLink.innerHTML = docLinkHtml;\n",
              "        element.appendChild(docLink);\n",
              "      }\n",
              "    </script>\n",
              "  </div>\n",
              "\n",
              "\n",
              "<div id=\"df-abc3537b-87f0-4008-98e0-43eff85494fd\">\n",
              "  <button class=\"colab-df-quickchart\" onclick=\"quickchart('df-abc3537b-87f0-4008-98e0-43eff85494fd')\"\n",
              "            title=\"Suggest charts\"\n",
              "            style=\"display:none;\">\n",
              "\n",
              "<svg xmlns=\"http://www.w3.org/2000/svg\" height=\"24px\"viewBox=\"0 0 24 24\"\n",
              "     width=\"24px\">\n",
              "    <g>\n",
              "        <path d=\"M19 3H5c-1.1 0-2 .9-2 2v14c0 1.1.9 2 2 2h14c1.1 0 2-.9 2-2V5c0-1.1-.9-2-2-2zM9 17H7v-7h2v7zm4 0h-2V7h2v10zm4 0h-2v-4h2v4z\"/>\n",
              "    </g>\n",
              "</svg>\n",
              "  </button>\n",
              "\n",
              "<style>\n",
              "  .colab-df-quickchart {\n",
              "      --bg-color: #E8F0FE;\n",
              "      --fill-color: #1967D2;\n",
              "      --hover-bg-color: #E2EBFA;\n",
              "      --hover-fill-color: #174EA6;\n",
              "      --disabled-fill-color: #AAA;\n",
              "      --disabled-bg-color: #DDD;\n",
              "  }\n",
              "\n",
              "  [theme=dark] .colab-df-quickchart {\n",
              "      --bg-color: #3B4455;\n",
              "      --fill-color: #D2E3FC;\n",
              "      --hover-bg-color: #434B5C;\n",
              "      --hover-fill-color: #FFFFFF;\n",
              "      --disabled-bg-color: #3B4455;\n",
              "      --disabled-fill-color: #666;\n",
              "  }\n",
              "\n",
              "  .colab-df-quickchart {\n",
              "    background-color: var(--bg-color);\n",
              "    border: none;\n",
              "    border-radius: 50%;\n",
              "    cursor: pointer;\n",
              "    display: none;\n",
              "    fill: var(--fill-color);\n",
              "    height: 32px;\n",
              "    padding: 0;\n",
              "    width: 32px;\n",
              "  }\n",
              "\n",
              "  .colab-df-quickchart:hover {\n",
              "    background-color: var(--hover-bg-color);\n",
              "    box-shadow: 0 1px 2px rgba(60, 64, 67, 0.3), 0 1px 3px 1px rgba(60, 64, 67, 0.15);\n",
              "    fill: var(--button-hover-fill-color);\n",
              "  }\n",
              "\n",
              "  .colab-df-quickchart-complete:disabled,\n",
              "  .colab-df-quickchart-complete:disabled:hover {\n",
              "    background-color: var(--disabled-bg-color);\n",
              "    fill: var(--disabled-fill-color);\n",
              "    box-shadow: none;\n",
              "  }\n",
              "\n",
              "  .colab-df-spinner {\n",
              "    border: 2px solid var(--fill-color);\n",
              "    border-color: transparent;\n",
              "    border-bottom-color: var(--fill-color);\n",
              "    animation:\n",
              "      spin 1s steps(1) infinite;\n",
              "  }\n",
              "\n",
              "  @keyframes spin {\n",
              "    0% {\n",
              "      border-color: transparent;\n",
              "      border-bottom-color: var(--fill-color);\n",
              "      border-left-color: var(--fill-color);\n",
              "    }\n",
              "    20% {\n",
              "      border-color: transparent;\n",
              "      border-left-color: var(--fill-color);\n",
              "      border-top-color: var(--fill-color);\n",
              "    }\n",
              "    30% {\n",
              "      border-color: transparent;\n",
              "      border-left-color: var(--fill-color);\n",
              "      border-top-color: var(--fill-color);\n",
              "      border-right-color: var(--fill-color);\n",
              "    }\n",
              "    40% {\n",
              "      border-color: transparent;\n",
              "      border-right-color: var(--fill-color);\n",
              "      border-top-color: var(--fill-color);\n",
              "    }\n",
              "    60% {\n",
              "      border-color: transparent;\n",
              "      border-right-color: var(--fill-color);\n",
              "    }\n",
              "    80% {\n",
              "      border-color: transparent;\n",
              "      border-right-color: var(--fill-color);\n",
              "      border-bottom-color: var(--fill-color);\n",
              "    }\n",
              "    90% {\n",
              "      border-color: transparent;\n",
              "      border-bottom-color: var(--fill-color);\n",
              "    }\n",
              "  }\n",
              "</style>\n",
              "\n",
              "  <script>\n",
              "    async function quickchart(key) {\n",
              "      const quickchartButtonEl =\n",
              "        document.querySelector('#' + key + ' button');\n",
              "      quickchartButtonEl.disabled = true;  // To prevent multiple clicks.\n",
              "      quickchartButtonEl.classList.add('colab-df-spinner');\n",
              "      try {\n",
              "        const charts = await google.colab.kernel.invokeFunction(\n",
              "            'suggestCharts', [key], {});\n",
              "      } catch (error) {\n",
              "        console.error('Error during call to suggestCharts:', error);\n",
              "      }\n",
              "      quickchartButtonEl.classList.remove('colab-df-spinner');\n",
              "      quickchartButtonEl.classList.add('colab-df-quickchart-complete');\n",
              "    }\n",
              "    (() => {\n",
              "      let quickchartButtonEl =\n",
              "        document.querySelector('#df-abc3537b-87f0-4008-98e0-43eff85494fd button');\n",
              "      quickchartButtonEl.style.display =\n",
              "        google.colab.kernel.accessAllowed ? 'block' : 'none';\n",
              "    })();\n",
              "  </script>\n",
              "</div>\n",
              "    </div>\n",
              "  </div>\n"
            ],
            "application/vnd.google.colaboratory.intrinsic+json": {
              "type": "dataframe",
              "variable_name": "df",
              "summary": "{\n  \"name\": \"df\",\n  \"rows\": 9476,\n  \"fields\": [\n    {\n      \"column\": \"link\",\n      \"properties\": {\n        \"dtype\": \"string\",\n        \"num_unique_values\": 9476,\n        \"samples\": [\n          \"https://www.huffingtonpost.com/entry/beto-orourke-trump-impeachment_us_5acbb18de4b09d0a1196527d\",\n          \"https://www.huffingtonpost.com/entry/kevin-nicholson-democratic-veterans_us_5aea2a0ce4b022f71a04bbff\",\n          \"https://www.huffingtonpost.com/entry/progressive-economic-policy-pledge-donald-trump-resistance_us_5a8e046ae4b077f5bfeae095\"\n        ],\n        \"semantic_type\": \"\",\n        \"description\": \"\"\n      }\n    },\n    {\n      \"column\": \"headline\",\n      \"properties\": {\n        \"dtype\": \"string\",\n        \"num_unique_values\": 9421,\n        \"samples\": [\n          \"Justin Timberlake Opens Up About His Super Bowl Prince Tribute\",\n          \"Hurricane Florence's Path Remains Uncertain As Storm Closes In On Carolinas\",\n          \"Black Unemployment Spikes, Complicating Trump\\u2019s State Of The Union Boast\"\n        ],\n        \"semantic_type\": \"\",\n        \"description\": \"\"\n      }\n    },\n    {\n      \"column\": \"category\",\n      \"properties\": {\n        \"dtype\": \"category\",\n        \"num_unique_values\": 36,\n        \"samples\": [\n          \"HEALTHY LIVING\",\n          \"RELIGION\",\n          \"TRAVEL\"\n        ],\n        \"semantic_type\": \"\",\n        \"description\": \"\"\n      }\n    },\n    {\n      \"column\": \"short_description\",\n      \"properties\": {\n        \"dtype\": \"string\",\n        \"num_unique_values\": 9435,\n        \"samples\": [\n          \"The fast food chain maintains that its own \\\"rigorous\\\" internal auditing system protects workers from abuse.\",\n          \"Jason Seaman said his brave acts were \\u201cthe only acceptable actions I could have done.\\\"\",\n          \"He made headlines by jacking up the price of a lifesaving drug.\"\n        ],\n        \"semantic_type\": \"\",\n        \"description\": \"\"\n      }\n    },\n    {\n      \"column\": \"authors\",\n      \"properties\": {\n        \"dtype\": \"category\",\n        \"num_unique_values\": 955,\n        \"samples\": [\n          \"Robin Emmott, Reuters\",\n          \"David Moye and Damon Dahlen\",\n          \"Leah Prinzivalli, Yahoo Lifestyle\"\n        ],\n        \"semantic_type\": \"\",\n        \"description\": \"\"\n      }\n    },\n    {\n      \"column\": \"date\",\n      \"properties\": {\n        \"dtype\": \"object\",\n        \"num_unique_values\": 365,\n        \"samples\": [\n          \"2018-06-21\",\n          \"2018-11-28\",\n          \"2018-12-16\"\n        ],\n        \"semantic_type\": \"\",\n        \"description\": \"\"\n      }\n    },\n    {\n      \"column\": \"views\",\n      \"properties\": {\n        \"dtype\": \"number\",\n        \"std\": 11651.625829981136,\n        \"min\": 348.0,\n        \"max\": 66654.0,\n        \"num_unique_values\": 8479,\n        \"samples\": [\n          27761.0,\n          33351.0,\n          1787.0\n        ],\n        \"semantic_type\": \"\",\n        \"description\": \"\"\n      }\n    },\n    {\n      \"column\": \"year\",\n      \"properties\": {\n        \"dtype\": \"number\",\n        \"std\": 0,\n        \"min\": 2018,\n        \"max\": 2018,\n        \"num_unique_values\": 1,\n        \"samples\": [\n          2018\n        ],\n        \"semantic_type\": \"\",\n        \"description\": \"\"\n      }\n    }\n  ]\n}"
            }
          },
          "metadata": {},
          "execution_count": 6
        }
      ]
    },
    {
      "cell_type": "markdown",
      "source": [
        "Our data set contains two text columns that can be used for recommendations. To get as much data as we can for our task, we can combine the *headline* and the *short_description*."
      ],
      "metadata": {
        "id": "hqxZFCASbUtR"
      }
    },
    {
      "cell_type": "code",
      "source": [
        "# Combine the two main text columns\n",
        "df['combined_description'] = df['headline'] + ' ' + df['short_description']"
      ],
      "metadata": {
        "id": "nQleTZVq8rLj"
      },
      "execution_count": null,
      "outputs": []
    },
    {
      "cell_type": "code",
      "source": [
        "# Retain only the necessary columns and convert to a list\n",
        "article_descriptions = df['combined_description'].tolist()"
      ],
      "metadata": {
        "id": "sYhDef9G2Cwp"
      },
      "execution_count": null,
      "outputs": []
    },
    {
      "cell_type": "code",
      "source": [
        "# Let's look at the first few records in our dataframe now\n",
        "few = 5\n",
        "for combined_description in article_descriptions[0:few]:\n",
        "    print('')\n",
        "    print('Combined Description: ', combined_description)"
      ],
      "metadata": {
        "colab": {
          "base_uri": "https://localhost:8080/"
        },
        "id": "iOTfC9BSwGat",
        "outputId": "5e4420f6-5517-4570-fa3e-86605e79b069"
      },
      "execution_count": null,
      "outputs": [
        {
          "output_type": "stream",
          "name": "stdout",
          "text": [
            "\n",
            "Combined Description:  Millions To See Pay Hikes In 2019 As Minimum Wage Increases In 20 States Thirteen counties and cities will notice the difference immediately on January 1, reaching or exceeding $15 an hour.\n",
            "\n",
            "Combined Description:  'Overwhelmingly White' California Women's March Canceled Over Representation Concerns Organizers said they would work harder to attract participants who reflect the community's diversity.\n",
            "\n",
            "Combined Description:  U.S. Stocks Suffer Worst Year Since 2008 Financial Crisis Despite a dismal year, the market closed out 2018 on a bright note.\n",
            "\n",
            "Combined Description:  Louisiana Police Sucker Media With Offer To 'Test' Meth For Zika The Harahan Police Department's faux Facebook post was an \"attempt at humor.\"\n",
            "\n",
            "Combined Description:  Roger Federer Will Face Off With Serena Williams For The First Time The tennis legends will play a mixed doubles match on New Year's Day at the Hopman Cup in Australia.\n"
          ]
        }
      ]
    },
    {
      "cell_type": "code",
      "source": [
        "# Check the size of the dataframe\n",
        "len(article_descriptions)"
      ],
      "metadata": {
        "colab": {
          "base_uri": "https://localhost:8080/"
        },
        "id": "vlvjpOQJ3EsR",
        "outputId": "c316040e-f827-4172-b3d6-a5b770dfb993"
      },
      "execution_count": null,
      "outputs": [
        {
          "output_type": "execute_result",
          "data": {
            "text/plain": [
              "9476"
            ]
          },
          "metadata": {},
          "execution_count": 10
        }
      ]
    },
    {
      "cell_type": "markdown",
      "source": [
        "## 2. Caching\n",
        "Caching is a proces by which temporary data or information can be stored locally so that they need not be processed again each time the script is executed.\n",
        "\n",
        "We are caching embeddings because it costs time and money to create API calls to the embeddings model.\n",
        "\n",
        "For example, the Ada v2 model costs \\$0.0001 / 1K tokens.\n",
        "\n",
        "Consider the first combined description, \"Millions To See Pay Hikes In 2019 As Minimum Wage Increases In 20 States Thirteen counties and cities will notice the difference immediately on January 1, reaching or exceeding $15 an hour.\" This contains 189 characters and 38 tokens.\n",
        "\n",
        "If we round this up to 40 tokens for each combined description and consider that our data set contains roughly 10,000 data points, we end up calculating embeddings for 400,000 tokens. This means, to calculate embeddings for this data set, we need to spend 4 cents.\n",
        "\n",
        "A helpful rule of thumb is that one token generally corresponds to ~4 characters of text for common English text.\n",
        "\n",
        "We will create a pickle file for the embeddings that we create. We will save our embeddings in a dictionary which has:\n",
        "* A tuple (text, model) as keys\n",
        "* The embedding vector as value"
      ],
      "metadata": {
        "id": "gKQY_Z8kx1QM"
      }
    },
    {
      "cell_type": "markdown",
      "source": [
        "We will define a function that returns the embedding for a given piece of text from the cache. If the embedding is not available in the cache, this function makes a call to the OpenAI embeddings API to retrieve the embedding for that text and adds it to the cache."
      ],
      "metadata": {
        "id": "TX3oAYT1qlgq"
      }
    },
    {
      "cell_type": "markdown",
      "source": [
        "![caching.png](data:image/png;base64,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)"
      ],
      "metadata": {
        "id": "l_v0KQfoo7Md"
      }
    },
    {
      "cell_type": "code",
      "source": [
        "# Establish a cache of embeddings to avoid recomputing\n",
        "# The cache is a dict where the key is a tuple (text, model) and the embedding is the value saved as a pickle file\n",
        "\n",
        "# Set the path to the embedding cache\n",
        "embedding_cache_path = '/content/recommendations_embeddings_cache.pkl'\n",
        "\n",
        "# Load the cache if it exists and save a copy to disk\n",
        "try:\n",
        "    # If the cache file exists, read it\n",
        "    embedding_cache = pd.read_pickle(embedding_cache_path)\n",
        "except FileNotFoundError:\n",
        "    embedding_cache = {}\n",
        "    # If the cache file does not exists, initialize it with an empty dictionary\n",
        "    with open(embedding_cache_path, 'wb') as embedding_cache_file:\n",
        "        pickle.dump(embedding_cache, embedding_cache_file)"
      ],
      "metadata": {
        "id": "1hcWGdbj18wU"
      },
      "execution_count": null,
      "outputs": []
    },
    {
      "cell_type": "markdown",
      "source": [
        "![obtain embedding.png](data:image/png;base64,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)"
      ],
      "metadata": {
        "id": "zT8FBFDvsDj4"
      }
    },
    {
      "cell_type": "code",
      "source": [
        "# Define a function to retrieve embeddings from the cache if present, otherwise request via the API\n",
        "# Note: If the cache file does not have the embedding, we create it using OpenAI and update the cache as well\n",
        "def obtain_embeddings(string = None, model = EMBEDDING_MODEL, embedding_cache = embedding_cache):\n",
        "    \"\"\"Return embedding of given string using a cache if possible to avoid recomputing.\n",
        "    If the embedding for the string does not exist in the cache file, update the cache with embeddings from OpenAI.\"\"\"\n",
        "    if (string, model) not in embedding_cache.keys():\n",
        "        # Note: The 'get_embedding' method is from OpenAI's embedding utilities\n",
        "        embedding_cache[(string, model)] = get_embedding(string, model)\n",
        "        # Update the cache file with the new cache\n",
        "        with open(embedding_cache_path, 'wb') as embedding_cache_file:\n",
        "            pickle.dump(embedding_cache, embedding_cache_file)\n",
        "    return embedding_cache[(string, model)]"
      ],
      "metadata": {
        "id": "_H2yB6xdtweP"
      },
      "execution_count": null,
      "outputs": []
    },
    {
      "cell_type": "code",
      "source": [
        "# Consider the first record in the dataset for example\n",
        "example_string = article_descriptions[0]\n",
        "print('Example string: ', example_string)\n",
        "\n",
        "# Print the first few dimensions of the retrieved embedding\n",
        "few = 2\n",
        "example_embedding = obtain_embeddings(example_string)\n",
        "print('Corresponding embedding: {} ...'.format(example_embedding[:few]))"
      ],
      "metadata": {
        "id": "0vU944MS242q",
        "colab": {
          "base_uri": "https://localhost:8080/"
        },
        "outputId": "0a81c3b6-8aa5-4a94-d5f4-5f7cbe7d37c5"
      },
      "execution_count": null,
      "outputs": [
        {
          "output_type": "stream",
          "name": "stdout",
          "text": [
            "Example string:  Millions To See Pay Hikes In 2019 As Minimum Wage Increases In 20 States Thirteen counties and cities will notice the difference immediately on January 1, reaching or exceeding $15 an hour.\n",
            "Corresponding embedding: [-0.008858582936227322, -0.02650456875562668] ...\n"
          ]
        }
      ]
    },
    {
      "cell_type": "code",
      "source": [
        "# Check the dimensionality of the embeddings\n",
        "len(example_embedding)"
      ],
      "metadata": {
        "colab": {
          "base_uri": "https://localhost:8080/"
        },
        "id": "qPSEmhe6vebO",
        "outputId": "82817450-2dff-4f33-f006-f470efc772a0"
      },
      "execution_count": null,
      "outputs": [
        {
          "output_type": "execute_result",
          "data": {
            "text/plain": [
              "1536"
            ]
          },
          "metadata": {},
          "execution_count": 15
        }
      ]
    },
    {
      "cell_type": "markdown",
      "source": [
        "An OpenAI embedding is a float vector that has 1536 dimensions. Now that we have defined a function to obtain embeddings and have incorporated our cache in this functionality, we can move on to working on our recommendation engine."
      ],
      "metadata": {
        "id": "QjkAq65VdxaD"
      }
    },
    {
      "cell_type": "markdown",
      "source": [
        "## 3. Recommending articles\n",
        "We will now define a function that takes in the original corpus of text, the query string, the number of recommendations that we want, and the embedding model that we're using, and returns news recommendations."
      ],
      "metadata": {
        "id": "laeeIMSxf8S2"
      }
    },
    {
      "cell_type": "code",
      "source": [
        "def shrewdnewsAI(strings = None, query_string_index = None, K = 1, model = EMBEDDING_MODEL):\n",
        "    \"\"\"Print out the K nearest neighbors of a given string.\"\"\"\n",
        "    # Obtain the embeddings for all the records in the source corpus\n",
        "    embeddings = [obtain_embeddings(string, model = model) for string in strings]\n",
        "\n",
        "    # Obtain the embedding of the query string\n",
        "    query_embedding = embeddings[query_string_index]\n",
        "\n",
        "    # Obtain distances between the query embedding and other embeddings using the 'distances_from_embeddings' method\n",
        "    # Note: This is a method from OpenAI's embedding utilities\n",
        "    # Note: Other similarity metrics may be used\n",
        "    distances = distances_from_embeddings(query_embedding, embeddings, distance_metric = 'cosine')\n",
        "\n",
        "    # Obtain indices of nearest neighbors using the 'indices_of_nearest_neighbors_from_distances' method\n",
        "    # Note: This is a method from OpenAI's embedding utilities\n",
        "    # Note: Other logics may be used for decision-making based on similarity scores\n",
        "    indices_of_nearest_neighbors = indices_of_nearest_neighbors_from_distances(distances)\n",
        "\n",
        "    # Print the query string\n",
        "    query_string = strings[query_string_index]\n",
        "    print('Query string: ', query_string)\n",
        "\n",
        "    # Print the K nearest neighbours to the query string\n",
        "    k_counter = 0\n",
        "    for i in indices_of_nearest_neighbors:\n",
        "        k_counter = k_counter + 1\n",
        "\n",
        "        # Skip any strings that are identical matches to the query string\n",
        "        if query_string == strings[i]:\n",
        "            continue\n",
        "        # Stop after printing out K articles\n",
        "        if k_counter > K + 1:\n",
        "            break\n",
        "\n",
        "        # Print the similar strings\n",
        "        print('Recommendation {x}: {y}'.format(x = k_counter - 1, y = strings[i]))\n",
        "\n",
        "    return None"
      ],
      "metadata": {
        "id": "cNPP8F215MMe"
      },
      "execution_count": null,
      "outputs": []
    },
    {
      "cell_type": "markdown",
      "source": [
        "Obtaining embeddings for the first time may take some time as you are doing a lot of API calls, but we have the embeddings cached, so it gets done quickly. A better way to do this would be to use a vector database. That allows you to save and query embeddings much quicker."
      ],
      "metadata": {
        "id": "srfYbIIzxICF"
      }
    },
    {
      "cell_type": "markdown",
      "source": [
        "## 4. Testing\n",
        "\n",
        "We can test our model by printing recommendations for a few articles."
      ],
      "metadata": {
        "id": "jOreyhSkhTCk"
      }
    },
    {
      "cell_type": "code",
      "source": [
        "# Print the top 5 similar news article that are similar to the article in index 0 in the corpus\n",
        "shrewdnewsAI(strings = article_descriptions,\n",
        "             query_string_index = 0,\n",
        "             K = 5)"
      ],
      "metadata": {
        "colab": {
          "base_uri": "https://localhost:8080/"
        },
        "id": "L17qnEVRwFss",
        "outputId": "23d27c43-2cce-40d9-8bc8-15c813ff957a"
      },
      "execution_count": null,
      "outputs": [
        {
          "output_type": "stream",
          "name": "stdout",
          "text": [
            "Query string:  Millions To See Pay Hikes In 2019 As Minimum Wage Increases In 20 States Thirteen counties and cities will notice the difference immediately on January 1, reaching or exceeding $15 an hour.\n",
            "Recommendation 1: Hundreds Protest In Cities Across U.S. For 'Poor People's Campaign' The movement demands lawmakers do more to help Americans in poverty, from supporting a $15 minimum wage to ending systemic racism.\n",
            "Recommendation 2: Paul Ryan: Secretary Getting $1.50 More A Week Shows Effect Of GOP Tax Cuts Not exactly a winning sales pitch.\n",
            "Recommendation 3: Companies Are Disclosing How Much Less They Pay Workers Than Executives And some firms seem a little embarrassed.\n",
            "Recommendation 4: Tentative Deal Reached To End West Virginia Teacher Strike Teachers will get a 5 percent raise, and state employees will get a 3 percent raise. But there's no clear fix to the employee health care plan.\n",
            "Recommendation 5: Most Americans Can't Afford A Minor Emergency Just 39 percent of Americans have enough money in savings to cover an unexpected $1,000 bill, according to a new report.\n"
          ]
        }
      ]
    },
    {
      "cell_type": "code",
      "source": [],
      "metadata": {
        "id": "7ASqtwqPJp7Y"
      },
      "execution_count": null,
      "outputs": []
    }
  ]
}